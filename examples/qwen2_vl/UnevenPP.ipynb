{
 "cells": [
  {
   "cell_type": "markdown",
   "id": "c6ee1bf1",
   "metadata": {},
   "source": [
    "## Uneven pp\n",
    "\n",
    "### args:\n",
    "\n",
    "```\n",
    "        --tensor-model-parallel-size ${TP} \\\n",
    "        --pipeline-model-parallel-size ${PP} \\\n",
    "        --decoder-first-pipeline-num-layers ${FIRST_PP_LAYERS} \\\n",
    "        --decoder-last-pipeline-num-layers ${LAST_PP_LAYERS} \\\n",
    "```\n"
   ]
  },
  {
   "attachments": {},
   "cell_type": "markdown",
   "id": "321e77e4",
   "metadata": {},
   "source": [
    "REF: [Efficient Large-Scale Language Model Training on GPU Clusters Using Megatron-LM](https://arxiv.org/abs/2104.04473)\n",
    "\n",
    "![image.png](./images/pp_1f1b.png)\n",
    "\n",
    "We denote the number of microbatches in a batch as $m$, the number of pipeline stages (number of devices used for pipeline parallelism) as $p$, the ideal time per iteration as $t_{id}$ (assuming perfect or ideal scaling), and the time to execute a single microbatch’s forward and backward pass as $t_{f}$ and $t_{b}$. In this schedule, the pipeline bubble consists of $p - 1$ forward passes at the start of a batch, and $p - 1$ backward passes at the end. The total amount of time spent in the The pipeline bubble is then $t_{pb} = (p - 1)\\cdot(t_{f}+t_{b})$. The ideal processing time for the batch is $t_{id} = m\\cdot(t_{f} + t_{b})$. Therefore, the fraction of ideal computation time spent in the pipeline bubble is:\n",
    "\n",
    "$$\\text{Bubble time fraction (pipeline bubble size)} =  \\frac{t_{pb}}{t_{id}}=\\frac{p - 1}{m}$$ \n",
    "\n",
    "<br>\n",
    "\n",
    "Ideally, the forward and reverse times on each pipeline rank are as balanced as possible, and the bubble time can be minimized. We can take a more intuitive look at the bubble from the following figure:\n",
    "\n",
    "![image-2.png](./images/pp_GPipe.png)\n",
    "\n",
    "<br>\n",
    "\n",
    "Let's analyze the situation of unbalanced Pipeline Parallelism (PP):\n",
    "\n",
    "![image-2.png](./images/pp_uneven_GPipe.png)\n",
    "\n",
    "\n",
    "\n",
    "![image-2.png](./images/pp_vs_uneven_pp_additional_bubbles.png)"
   ]
  },
  {
   "cell_type": "code",
   "execution_count": null,
   "id": "5cf4c5ac",
   "metadata": {},
   "outputs": [],
   "source": []
  }
 ],
 "metadata": {
  "kernelspec": {
   "display_name": "Python 3 (ipykernel)",
   "language": "python",
   "name": "python3"
  },
  "language_info": {
   "codemirror_mode": {
    "name": "ipython",
    "version": 3
   },
   "file_extension": ".py",
   "mimetype": "text/x-python",
   "name": "python",
   "nbconvert_exporter": "python",
   "pygments_lexer": "ipython3",
   "version": "3.10.12"
  }
 },
 "nbformat": 4,
 "nbformat_minor": 5
}
