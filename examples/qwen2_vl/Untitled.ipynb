{
 "cells": [
  {
   "cell_type": "code",
   "execution_count": 14,
   "id": "cb6a70f9",
   "metadata": {},
   "outputs": [],
   "source": [
    "import torch\n",
    "import torch.nn as nn\n",
    "import torch.nn.functional as F"
   ]
  },
  {
   "cell_type": "code",
   "execution_count": 41,
   "id": "5e8c3b28",
   "metadata": {},
   "outputs": [
    {
     "name": "stdout",
     "output_type": "stream",
     "text": [
      "num_windows_w: 3\n",
      "tensor([ 0,  1,  2,  3,  4,  5,  6,  7,  8,  9, 10, 11, 12, 13, 14, 15])\n",
      "torch.Size([256, 4, 8])\n",
      "torch.Size([16, 4, 8])\n"
     ]
    }
   ],
   "source": [
    "class Test:\n",
    "    def __init__(self):\n",
    "        self.window_size=28\n",
    "        self.spatial_merge_size=2\n",
    "        self.patch_size=14\n",
    "    \n",
    "    def get_window_index(self,grid_thw):\n",
    "        window_index: list = []\n",
    "        cu_window_seqlens: list = [0]\n",
    "        window_index_id = 0\n",
    "        vit_merger_window_size = self.window_size // self.spatial_merge_size // self.patch_size\n",
    "\n",
    "        for grid_t, grid_h, grid_w in grid_thw:\n",
    "            llm_grid_h, llm_grid_w = (\n",
    "                grid_h // self.spatial_merge_size,\n",
    "                grid_w // self.spatial_merge_size,\n",
    "            )\n",
    "            index = torch.arange(grid_t * llm_grid_h * llm_grid_w).reshape(grid_t, llm_grid_h, llm_grid_w)\n",
    "            pad_h = vit_merger_window_size - llm_grid_h % vit_merger_window_size\n",
    "            pad_w = vit_merger_window_size - llm_grid_w % vit_merger_window_size\n",
    "            num_windows_h = (llm_grid_h + pad_h) // vit_merger_window_size\n",
    "            num_windows_w = (llm_grid_w + pad_w) // vit_merger_window_size\n",
    "            \n",
    "            print('num_windows_w:', num_windows_w)\n",
    "            \n",
    "            index_padded = F.pad(index, (0, pad_w, 0, pad_h), \"constant\", -100)\n",
    "            index_padded = index_padded.reshape(\n",
    "                grid_t,\n",
    "                num_windows_h,\n",
    "                vit_merger_window_size,\n",
    "                num_windows_w,\n",
    "                vit_merger_window_size,\n",
    "            )\n",
    "            index_padded = index_padded.permute(0, 1, 3, 2, 4).reshape(\n",
    "                grid_t,\n",
    "                num_windows_h * num_windows_w,\n",
    "                vit_merger_window_size,\n",
    "                vit_merger_window_size,\n",
    "            )\n",
    "            seqlens = (index_padded != -100).sum([2, 3]).reshape(-1)\n",
    "            index_padded = index_padded.reshape(-1)\n",
    "            index_new = index_padded[index_padded != -100]\n",
    "            window_index.append(index_new + window_index_id)\n",
    "#             cu_seqlens_tmp = seqlens.cumsum(0) * self.spatial_merge_unit + cu_window_seqlens[-1]\n",
    "#             cu_window_seqlens.extend(cu_seqlens_tmp.tolist())\n",
    "#             window_index_id += (grid_t * llm_grid_h * llm_grid_w).item()\n",
    "        window_index = torch.cat(window_index, dim=0)\n",
    "\n",
    "        return window_index, cu_window_seqlens\n",
    "\n",
    "grid_thw=[(4,4,4)]\n",
    "\n",
    "index,_=Test().get_window_index(grid_thw)\n",
    "\n",
    "print(index)\n",
    "\n",
    "hidden_size=torch.rand(256,4,8)\n",
    "print(hidden_size.shape)\n",
    "hidden_size=hidden_size[index,:,:]\n",
    "\n",
    "print(hidden_size.shape)"
   ]
  },
  {
   "cell_type": "code",
   "execution_count": null,
   "id": "fa9df3fc",
   "metadata": {},
   "outputs": [],
   "source": []
  }
 ],
 "metadata": {
  "kernelspec": {
   "display_name": "Python 3 (ipykernel)",
   "language": "python",
   "name": "python3"
  },
  "language_info": {
   "codemirror_mode": {
    "name": "ipython",
    "version": 3
   },
   "file_extension": ".py",
   "mimetype": "text/x-python",
   "name": "python",
   "nbconvert_exporter": "python",
   "pygments_lexer": "ipython3",
   "version": "3.10.12"
  }
 },
 "nbformat": 4,
 "nbformat_minor": 5
}
